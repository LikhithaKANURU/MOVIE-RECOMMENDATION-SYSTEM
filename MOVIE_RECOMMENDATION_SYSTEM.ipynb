{
  "metadata": {
    "kernelspec": {
      "language": "python",
      "display_name": "Python 3",
      "name": "python3"
    },
    "language_info": {
      "name": "python",
      "version": "3.10.13",
      "mimetype": "text/x-python",
      "codemirror_mode": {
        "name": "ipython",
        "version": 3
      },
      "pygments_lexer": "ipython3",
      "nbconvert_exporter": "python",
      "file_extension": ".py"
    },
    "kaggle": {
      "accelerator": "none",
      "dataSources": [
        {
          "sourceId": 5872805,
          "sourceType": "datasetVersion",
          "datasetId": 3375918
        }
      ],
      "dockerImageVersionId": 30732,
      "isInternetEnabled": false,
      "language": "python",
      "sourceType": "notebook",
      "isGpuEnabled": false
    },
    "colab": {
      "provenance": [],
      "include_colab_link": true
    }
  },
  "nbformat_minor": 0,
  "nbformat": 4,
  "cells": [
    {
      "cell_type": "markdown",
      "metadata": {
        "id": "view-in-github",
        "colab_type": "text"
      },
      "source": [
        "<a href=\"https://colab.research.google.com/github/LikhithaKANURU/MOVIE-RECOMMENDATION-SYSTEM/blob/main/MOVIE_RECOMMENDATION_SYSTEM.ipynb\" target=\"_parent\"><img src=\"https://colab.research.google.com/assets/colab-badge.svg\" alt=\"Open In Colab\"/></a>"
      ]
    },
    {
      "cell_type": "markdown",
      "source": [
        "# **MOBILE RECOMMENDATION SYSTEM**"
      ],
      "metadata": {
        "id": "Rx9-maUIo731"
      }
    },
    {
      "source": [
        "# IMPORTANT: RUN THIS CELL IN ORDER TO IMPORT YOUR KAGGLE DATA SOURCES\n",
        "# TO THE CORRECT LOCATION (/kaggle/input) IN YOUR NOTEBOOK,\n",
        "# THEN FEEL FREE TO DELETE THIS CELL.\n",
        "# NOTE: THIS NOTEBOOK ENVIRONMENT DIFFERS FROM KAGGLE'S PYTHON\n",
        "# ENVIRONMENT SO THERE MAY BE MISSING LIBRARIES USED BY YOUR\n",
        "# NOTEBOOK.\n",
        "\n",
        "import os\n",
        "import sys\n",
        "from tempfile import NamedTemporaryFile\n",
        "from urllib.request import urlopen\n",
        "from urllib.parse import unquote, urlparse\n",
        "from urllib.error import HTTPError\n",
        "from zipfile import ZipFile\n",
        "import tarfile\n",
        "import shutil\n",
        "\n",
        "CHUNK_SIZE = 40960\n",
        "DATA_SOURCE_MAPPING = 'movie-recommendation-system:https%3A%2F%2Fstorage.googleapis.com%2Fkaggle-data-sets%2F3375918%2F5872805%2Fbundle%2Farchive.zip%3FX-Goog-Algorithm%3DGOOG4-RSA-SHA256%26X-Goog-Credential%3Dgcp-kaggle-com%2540kaggle-161607.iam.gserviceaccount.com%252F20240731%252Fauto%252Fstorage%252Fgoog4_request%26X-Goog-Date%3D20240731T163058Z%26X-Goog-Expires%3D259200%26X-Goog-SignedHeaders%3Dhost%26X-Goog-Signature%3D4e82a775e1641b8e410adfcecdfb0dd4247e21c72db77fded32cbd32eec1c11afc448156a8edd65576f146e3f19f5d917a13666d2b2b6313e6fc19da215f9e9f8492f3ad299d2f712db50e83d708e8b906b829f8ad00b09568531fc48385a595a07b608248399bf2fd1c7fd5d3227562ea851fb928d64147978b2b5fca073b613cb8eae057b01d783baa58f580a32785b9badb056bcef39a65958e93a68a5880a2b9a6e15fb22bb60fa1bb6bf6fd1519bb40129659c19f79ab3b6ea53441e506ff2987907c40da4f4c766f821e27559f787e62c0150d3e54d665da97020d675449cbafd8f9b670e8c8dc3fafbb98ae122666213ecd284fedbdaa5d14b508d878'\n",
        "\n",
        "KAGGLE_INPUT_PATH='/kaggle/input'\n",
        "KAGGLE_WORKING_PATH='/kaggle/working'\n",
        "KAGGLE_SYMLINK='kaggle'\n",
        "\n",
        "!umount /kaggle/input/ 2> /dev/null\n",
        "shutil.rmtree('/kaggle/input', ignore_errors=True)\n",
        "os.makedirs(KAGGLE_INPUT_PATH, 0o777, exist_ok=True)\n",
        "os.makedirs(KAGGLE_WORKING_PATH, 0o777, exist_ok=True)\n",
        "\n",
        "try:\n",
        "  os.symlink(KAGGLE_INPUT_PATH, os.path.join(\"..\", 'input'), target_is_directory=True)\n",
        "except FileExistsError:\n",
        "  pass\n",
        "try:\n",
        "  os.symlink(KAGGLE_WORKING_PATH, os.path.join(\"..\", 'working'), target_is_directory=True)\n",
        "except FileExistsError:\n",
        "  pass\n",
        "\n",
        "for data_source_mapping in DATA_SOURCE_MAPPING.split(','):\n",
        "    directory, download_url_encoded = data_source_mapping.split(':')\n",
        "    download_url = unquote(download_url_encoded)\n",
        "    filename = urlparse(download_url).path\n",
        "    destination_path = os.path.join(KAGGLE_INPUT_PATH, directory)\n",
        "    try:\n",
        "        with urlopen(download_url) as fileres, NamedTemporaryFile() as tfile:\n",
        "            total_length = fileres.headers['content-length']\n",
        "            print(f'Downloading {directory}, {total_length} bytes compressed')\n",
        "            dl = 0\n",
        "            data = fileres.read(CHUNK_SIZE)\n",
        "            while len(data) > 0:\n",
        "                dl += len(data)\n",
        "                tfile.write(data)\n",
        "                done = int(50 * dl / int(total_length))\n",
        "                sys.stdout.write(f\"\\r[{'=' * done}{' ' * (50-done)}] {dl} bytes downloaded\")\n",
        "                sys.stdout.flush()\n",
        "                data = fileres.read(CHUNK_SIZE)\n",
        "            if filename.endswith('.zip'):\n",
        "              with ZipFile(tfile) as zfile:\n",
        "                zfile.extractall(destination_path)\n",
        "            else:\n",
        "              with tarfile.open(tfile.name) as tarfile:\n",
        "                tarfile.extractall(destination_path)\n",
        "            print(f'\\nDownloaded and uncompressed: {directory}')\n",
        "    except HTTPError as e:\n",
        "        print(f'Failed to load (likely expired) {download_url} to path {destination_path}')\n",
        "        continue\n",
        "    except OSError as e:\n",
        "        print(f'Failed to load {download_url} to path {destination_path}')\n",
        "        continue\n",
        "\n",
        "print('Data source import complete.')\n"
      ],
      "metadata": {
        "id": "6zHXfSXyoW61"
      },
      "cell_type": "code",
      "outputs": [],
      "execution_count": null
    },
    {
      "cell_type": "code",
      "source": [
        "# This Python 3 environment comes with many helpful analytics libraries installed\n",
        "# It is defined by the kaggle/python Docker image: https://github.com/kaggle/docker-python\n",
        "# For example, here's several helpful packages to load\n",
        "\n",
        "import numpy as np # linear algebra\n",
        "import pandas as pd # data processing, CSV file I/O (e.g. pd.read_csv)\n",
        "\n",
        "# Input data files are available in the read-only \"../input/\" directory\n",
        "# For example, running this (by clicking run or pressing Shift+Enter) will list all files under the input directory\n",
        "\n",
        "import os\n",
        "for dirname, _, filenames in os.walk('/kaggle/input'):\n",
        "    for filename in filenames:\n",
        "        print(os.path.join(dirname, filename))\n",
        "\n",
        "# You can write up to 20GB to the current directory (/kaggle/working/) that gets preserved as output when you create a version using \"Save & Run All\"\n",
        "# You can also write temporary files to /kaggle/temp/, but they won't be saved outside of the current session"
      ],
      "metadata": {
        "_uuid": "8f2839f25d086af736a60e9eeb907d3b93b6e0e5",
        "_cell_guid": "b1076dfc-b9ad-4769-8c92-a6c4dae69d19",
        "execution": {
          "iopub.status.busy": "2024-07-31T16:29:51.656981Z",
          "iopub.execute_input": "2024-07-31T16:29:51.6575Z",
          "iopub.status.idle": "2024-07-31T16:29:51.664742Z",
          "shell.execute_reply.started": "2024-07-31T16:29:51.657459Z",
          "shell.execute_reply": "2024-07-31T16:29:51.663647Z"
        },
        "trusted": true,
        "id": "IShAl_JdoW63",
        "outputId": "d68a84d6-1dc0-4598-c553-8f1ae00d9393"
      },
      "execution_count": null,
      "outputs": [
        {
          "name": "stdout",
          "text": "/kaggle/input/movie-recommendation-system/movies.csv\n/kaggle/input/movie-recommendation-system/ratings.csv\n",
          "output_type": "stream"
        }
      ]
    },
    {
      "cell_type": "markdown",
      "source": [
        "# Movie Recommendation using KNN"
      ],
      "metadata": {
        "id": "eJ2ok9YroW64"
      }
    },
    {
      "cell_type": "code",
      "source": [
        "movies_df=pd.read_csv('/kaggle/input/movie-recommendation-system/movies.csv')\n",
        "ratings_df=pd.read_csv('/kaggle/input/movie-recommendation-system/ratings.csv')\n",
        "movies_df.head()"
      ],
      "metadata": {
        "execution": {
          "iopub.status.busy": "2024-07-31T16:29:51.668949Z",
          "iopub.execute_input": "2024-07-31T16:29:51.669256Z",
          "iopub.status.idle": "2024-07-31T16:30:08.605247Z",
          "shell.execute_reply.started": "2024-07-31T16:29:51.669231Z",
          "shell.execute_reply": "2024-07-31T16:30:08.604201Z"
        },
        "trusted": true,
        "id": "4tg_TjDboW65",
        "outputId": "fa3aa14b-63f8-4fd6-abb9-875f37589108"
      },
      "execution_count": null,
      "outputs": [
        {
          "execution_count": 3,
          "output_type": "execute_result",
          "data": {
            "text/plain": "   movieId                               title  \\\n0        1                    Toy Story (1995)   \n1        2                      Jumanji (1995)   \n2        3             Grumpier Old Men (1995)   \n3        4            Waiting to Exhale (1995)   \n4        5  Father of the Bride Part II (1995)   \n\n                                        genres  \n0  Adventure|Animation|Children|Comedy|Fantasy  \n1                   Adventure|Children|Fantasy  \n2                               Comedy|Romance  \n3                         Comedy|Drama|Romance  \n4                                       Comedy  ",
            "text/html": "<div>\n<style scoped>\n    .dataframe tbody tr th:only-of-type {\n        vertical-align: middle;\n    }\n\n    .dataframe tbody tr th {\n        vertical-align: top;\n    }\n\n    .dataframe thead th {\n        text-align: right;\n    }\n</style>\n<table border=\"1\" class=\"dataframe\">\n  <thead>\n    <tr style=\"text-align: right;\">\n      <th></th>\n      <th>movieId</th>\n      <th>title</th>\n      <th>genres</th>\n    </tr>\n  </thead>\n  <tbody>\n    <tr>\n      <th>0</th>\n      <td>1</td>\n      <td>Toy Story (1995)</td>\n      <td>Adventure|Animation|Children|Comedy|Fantasy</td>\n    </tr>\n    <tr>\n      <th>1</th>\n      <td>2</td>\n      <td>Jumanji (1995)</td>\n      <td>Adventure|Children|Fantasy</td>\n    </tr>\n    <tr>\n      <th>2</th>\n      <td>3</td>\n      <td>Grumpier Old Men (1995)</td>\n      <td>Comedy|Romance</td>\n    </tr>\n    <tr>\n      <th>3</th>\n      <td>4</td>\n      <td>Waiting to Exhale (1995)</td>\n      <td>Comedy|Drama|Romance</td>\n    </tr>\n    <tr>\n      <th>4</th>\n      <td>5</td>\n      <td>Father of the Bride Part II (1995)</td>\n      <td>Comedy</td>\n    </tr>\n  </tbody>\n</table>\n</div>"
          },
          "metadata": {}
        }
      ]
    },
    {
      "cell_type": "code",
      "source": [
        "movies_df.shape"
      ],
      "metadata": {
        "execution": {
          "iopub.status.busy": "2024-07-31T16:30:08.607055Z",
          "iopub.execute_input": "2024-07-31T16:30:08.607362Z",
          "iopub.status.idle": "2024-07-31T16:30:08.613852Z",
          "shell.execute_reply.started": "2024-07-31T16:30:08.607333Z",
          "shell.execute_reply": "2024-07-31T16:30:08.61275Z"
        },
        "trusted": true,
        "id": "auSYUhmsoW65",
        "outputId": "02c75f4f-45bc-49ac-9aee-b130ef197a2f"
      },
      "execution_count": null,
      "outputs": [
        {
          "execution_count": 4,
          "output_type": "execute_result",
          "data": {
            "text/plain": "(62423, 3)"
          },
          "metadata": {}
        }
      ]
    },
    {
      "cell_type": "code",
      "source": [
        "movies_df.isna().sum()"
      ],
      "metadata": {
        "execution": {
          "iopub.status.busy": "2024-07-31T16:30:08.615331Z",
          "iopub.execute_input": "2024-07-31T16:30:08.61592Z",
          "iopub.status.idle": "2024-07-31T16:30:08.636686Z",
          "shell.execute_reply.started": "2024-07-31T16:30:08.61588Z",
          "shell.execute_reply": "2024-07-31T16:30:08.635702Z"
        },
        "trusted": true,
        "id": "oamAHresoW66",
        "outputId": "f59c69db-4fc0-4223-9706-55a2dde406e7"
      },
      "execution_count": null,
      "outputs": [
        {
          "execution_count": 5,
          "output_type": "execute_result",
          "data": {
            "text/plain": "movieId    0\ntitle      0\ngenres     0\ndtype: int64"
          },
          "metadata": {}
        }
      ]
    },
    {
      "cell_type": "code",
      "source": [
        "movies_df.info()"
      ],
      "metadata": {
        "execution": {
          "iopub.status.busy": "2024-07-31T16:30:08.637804Z",
          "iopub.execute_input": "2024-07-31T16:30:08.638075Z",
          "iopub.status.idle": "2024-07-31T16:30:08.662198Z",
          "shell.execute_reply.started": "2024-07-31T16:30:08.638051Z",
          "shell.execute_reply": "2024-07-31T16:30:08.661114Z"
        },
        "trusted": true,
        "id": "VJyctPNLoW66",
        "outputId": "9754ef7f-0041-453b-b98f-8df1421fc581"
      },
      "execution_count": null,
      "outputs": [
        {
          "name": "stdout",
          "text": "<class 'pandas.core.frame.DataFrame'>\nRangeIndex: 62423 entries, 0 to 62422\nData columns (total 3 columns):\n #   Column   Non-Null Count  Dtype \n---  ------   --------------  ----- \n 0   movieId  62423 non-null  int64 \n 1   title    62423 non-null  object\n 2   genres   62423 non-null  object\ndtypes: int64(1), object(2)\nmemory usage: 1.4+ MB\n",
          "output_type": "stream"
        }
      ]
    },
    {
      "cell_type": "code",
      "source": [
        "ratings_df.head()"
      ],
      "metadata": {
        "execution": {
          "iopub.status.busy": "2024-07-31T16:30:08.665783Z",
          "iopub.execute_input": "2024-07-31T16:30:08.666634Z",
          "iopub.status.idle": "2024-07-31T16:30:08.678493Z",
          "shell.execute_reply.started": "2024-07-31T16:30:08.666594Z",
          "shell.execute_reply": "2024-07-31T16:30:08.677481Z"
        },
        "trusted": true,
        "id": "WuRem2IRoW66",
        "outputId": "722ddd7c-ce01-4864-8e6b-4309f1c62330"
      },
      "execution_count": null,
      "outputs": [
        {
          "execution_count": 7,
          "output_type": "execute_result",
          "data": {
            "text/plain": "   userId  movieId  rating   timestamp\n0       1      296     5.0  1147880044\n1       1      306     3.5  1147868817\n2       1      307     5.0  1147868828\n3       1      665     5.0  1147878820\n4       1      899     3.5  1147868510",
            "text/html": "<div>\n<style scoped>\n    .dataframe tbody tr th:only-of-type {\n        vertical-align: middle;\n    }\n\n    .dataframe tbody tr th {\n        vertical-align: top;\n    }\n\n    .dataframe thead th {\n        text-align: right;\n    }\n</style>\n<table border=\"1\" class=\"dataframe\">\n  <thead>\n    <tr style=\"text-align: right;\">\n      <th></th>\n      <th>userId</th>\n      <th>movieId</th>\n      <th>rating</th>\n      <th>timestamp</th>\n    </tr>\n  </thead>\n  <tbody>\n    <tr>\n      <th>0</th>\n      <td>1</td>\n      <td>296</td>\n      <td>5.0</td>\n      <td>1147880044</td>\n    </tr>\n    <tr>\n      <th>1</th>\n      <td>1</td>\n      <td>306</td>\n      <td>3.5</td>\n      <td>1147868817</td>\n    </tr>\n    <tr>\n      <th>2</th>\n      <td>1</td>\n      <td>307</td>\n      <td>5.0</td>\n      <td>1147868828</td>\n    </tr>\n    <tr>\n      <th>3</th>\n      <td>1</td>\n      <td>665</td>\n      <td>5.0</td>\n      <td>1147878820</td>\n    </tr>\n    <tr>\n      <th>4</th>\n      <td>1</td>\n      <td>899</td>\n      <td>3.5</td>\n      <td>1147868510</td>\n    </tr>\n  </tbody>\n</table>\n</div>"
          },
          "metadata": {}
        }
      ]
    },
    {
      "cell_type": "code",
      "source": [
        "ratings_df.isna().sum()"
      ],
      "metadata": {
        "execution": {
          "iopub.status.busy": "2024-07-31T16:30:08.679628Z",
          "iopub.execute_input": "2024-07-31T16:30:08.679924Z",
          "iopub.status.idle": "2024-07-31T16:30:08.796834Z",
          "shell.execute_reply.started": "2024-07-31T16:30:08.679898Z",
          "shell.execute_reply": "2024-07-31T16:30:08.79586Z"
        },
        "trusted": true,
        "id": "xl0MgIV2oW67",
        "outputId": "b9aa0a32-b65b-4663-d81b-7fa0445c09f6"
      },
      "execution_count": null,
      "outputs": [
        {
          "execution_count": 8,
          "output_type": "execute_result",
          "data": {
            "text/plain": "userId       0\nmovieId      0\nrating       0\ntimestamp    0\ndtype: int64"
          },
          "metadata": {}
        }
      ]
    },
    {
      "cell_type": "code",
      "source": [
        "ratings_df.info()"
      ],
      "metadata": {
        "execution": {
          "iopub.status.busy": "2024-07-31T16:30:08.797929Z",
          "iopub.execute_input": "2024-07-31T16:30:08.798204Z",
          "iopub.status.idle": "2024-07-31T16:30:08.807757Z",
          "shell.execute_reply.started": "2024-07-31T16:30:08.79818Z",
          "shell.execute_reply": "2024-07-31T16:30:08.80672Z"
        },
        "trusted": true,
        "id": "wIQTJb7IoW67",
        "outputId": "544594a5-fdc2-41de-eef0-a05759dc4f5c"
      },
      "execution_count": null,
      "outputs": [
        {
          "name": "stdout",
          "text": "<class 'pandas.core.frame.DataFrame'>\nRangeIndex: 25000095 entries, 0 to 25000094\nData columns (total 4 columns):\n #   Column     Dtype  \n---  ------     -----  \n 0   userId     int64  \n 1   movieId    int64  \n 2   rating     float64\n 3   timestamp  int64  \ndtypes: float64(1), int64(3)\nmemory usage: 762.9 MB\n",
          "output_type": "stream"
        }
      ]
    },
    {
      "cell_type": "code",
      "source": [
        "ratings_df.shape"
      ],
      "metadata": {
        "execution": {
          "iopub.status.busy": "2024-07-31T16:30:08.809552Z",
          "iopub.execute_input": "2024-07-31T16:30:08.809925Z",
          "iopub.status.idle": "2024-07-31T16:30:08.819376Z",
          "shell.execute_reply.started": "2024-07-31T16:30:08.809897Z",
          "shell.execute_reply": "2024-07-31T16:30:08.818256Z"
        },
        "trusted": true,
        "id": "IeUNNcshoW67",
        "outputId": "78f17897-2fd9-4c75-9926-a7bde0b91239"
      },
      "execution_count": null,
      "outputs": [
        {
          "execution_count": 10,
          "output_type": "execute_result",
          "data": {
            "text/plain": "(25000095, 4)"
          },
          "metadata": {}
        }
      ]
    },
    {
      "cell_type": "code",
      "source": [
        "df=movies_df.merge(ratings_df)\n",
        "df1=df.drop(['genres', 'timestamp'], axis=1)\n",
        "df1.head()"
      ],
      "metadata": {
        "execution": {
          "iopub.status.busy": "2024-07-31T16:30:08.820944Z",
          "iopub.execute_input": "2024-07-31T16:30:08.82124Z",
          "iopub.status.idle": "2024-07-31T16:30:14.0887Z",
          "shell.execute_reply.started": "2024-07-31T16:30:08.821214Z",
          "shell.execute_reply": "2024-07-31T16:30:14.087686Z"
        },
        "trusted": true,
        "id": "xXhwBXLloW67",
        "outputId": "5d994db2-3cc2-4ea7-d183-28a5203252eb"
      },
      "execution_count": null,
      "outputs": [
        {
          "execution_count": 11,
          "output_type": "execute_result",
          "data": {
            "text/plain": "   movieId             title  userId  rating\n0        1  Toy Story (1995)       2     3.5\n1        1  Toy Story (1995)       3     4.0\n2        1  Toy Story (1995)       4     3.0\n3        1  Toy Story (1995)       5     4.0\n4        1  Toy Story (1995)       8     4.0",
            "text/html": "<div>\n<style scoped>\n    .dataframe tbody tr th:only-of-type {\n        vertical-align: middle;\n    }\n\n    .dataframe tbody tr th {\n        vertical-align: top;\n    }\n\n    .dataframe thead th {\n        text-align: right;\n    }\n</style>\n<table border=\"1\" class=\"dataframe\">\n  <thead>\n    <tr style=\"text-align: right;\">\n      <th></th>\n      <th>movieId</th>\n      <th>title</th>\n      <th>userId</th>\n      <th>rating</th>\n    </tr>\n  </thead>\n  <tbody>\n    <tr>\n      <th>0</th>\n      <td>1</td>\n      <td>Toy Story (1995)</td>\n      <td>2</td>\n      <td>3.5</td>\n    </tr>\n    <tr>\n      <th>1</th>\n      <td>1</td>\n      <td>Toy Story (1995)</td>\n      <td>3</td>\n      <td>4.0</td>\n    </tr>\n    <tr>\n      <th>2</th>\n      <td>1</td>\n      <td>Toy Story (1995)</td>\n      <td>4</td>\n      <td>3.0</td>\n    </tr>\n    <tr>\n      <th>3</th>\n      <td>1</td>\n      <td>Toy Story (1995)</td>\n      <td>5</td>\n      <td>4.0</td>\n    </tr>\n    <tr>\n      <th>4</th>\n      <td>1</td>\n      <td>Toy Story (1995)</td>\n      <td>8</td>\n      <td>4.0</td>\n    </tr>\n  </tbody>\n</table>\n</div>"
          },
          "metadata": {}
        }
      ]
    },
    {
      "cell_type": "code",
      "source": [
        "df2=df1.groupby('title')['rating'].count().reset_index().rename(columns={'rating': 'ratingcount'})\n",
        "df2.head()"
      ],
      "metadata": {
        "execution": {
          "iopub.status.busy": "2024-07-31T16:30:14.090058Z",
          "iopub.execute_input": "2024-07-31T16:30:14.090401Z",
          "iopub.status.idle": "2024-07-31T16:30:16.824535Z",
          "shell.execute_reply.started": "2024-07-31T16:30:14.090374Z",
          "shell.execute_reply": "2024-07-31T16:30:16.823399Z"
        },
        "trusted": true,
        "id": "tk5K1gWuoW67",
        "outputId": "5ce44bd5-c23d-4b01-b4eb-856b032ac7b0"
      },
      "execution_count": null,
      "outputs": [
        {
          "execution_count": 12,
          "output_type": "execute_result",
          "data": {
            "text/plain": "                                               title  ratingcount\n0  \"BLOW THE NIGHT!\" Let's Spend the Night Togeth...            1\n1                   \"Great Performances\" Cats (1998)          179\n2                         #1 Cheerleader Camp (2010)            9\n3                                   #Captured (2017)            2\n4                            #Female Pleasure (2018)            3",
            "text/html": "<div>\n<style scoped>\n    .dataframe tbody tr th:only-of-type {\n        vertical-align: middle;\n    }\n\n    .dataframe tbody tr th {\n        vertical-align: top;\n    }\n\n    .dataframe thead th {\n        text-align: right;\n    }\n</style>\n<table border=\"1\" class=\"dataframe\">\n  <thead>\n    <tr style=\"text-align: right;\">\n      <th></th>\n      <th>title</th>\n      <th>ratingcount</th>\n    </tr>\n  </thead>\n  <tbody>\n    <tr>\n      <th>0</th>\n      <td>\"BLOW THE NIGHT!\" Let's Spend the Night Togeth...</td>\n      <td>1</td>\n    </tr>\n    <tr>\n      <th>1</th>\n      <td>\"Great Performances\" Cats (1998)</td>\n      <td>179</td>\n    </tr>\n    <tr>\n      <th>2</th>\n      <td>#1 Cheerleader Camp (2010)</td>\n      <td>9</td>\n    </tr>\n    <tr>\n      <th>3</th>\n      <td>#Captured (2017)</td>\n      <td>2</td>\n    </tr>\n    <tr>\n      <th>4</th>\n      <td>#Female Pleasure (2018)</td>\n      <td>3</td>\n    </tr>\n  </tbody>\n</table>\n</div>"
          },
          "metadata": {}
        }
      ]
    },
    {
      "cell_type": "code",
      "source": [
        "df3=df1.merge(df2,on='title',how='left')\n",
        "df3.head()"
      ],
      "metadata": {
        "execution": {
          "iopub.status.busy": "2024-07-31T16:30:16.825809Z",
          "iopub.execute_input": "2024-07-31T16:30:16.826114Z",
          "iopub.status.idle": "2024-07-31T16:30:20.694562Z",
          "shell.execute_reply.started": "2024-07-31T16:30:16.826088Z",
          "shell.execute_reply": "2024-07-31T16:30:20.693496Z"
        },
        "trusted": true,
        "id": "X-qscEcJoW68",
        "outputId": "aca2ed0d-ff35-4aa2-94f1-32149609797f"
      },
      "execution_count": null,
      "outputs": [
        {
          "execution_count": 13,
          "output_type": "execute_result",
          "data": {
            "text/plain": "   movieId             title  userId  rating  ratingcount\n0        1  Toy Story (1995)       2     3.5        57309\n1        1  Toy Story (1995)       3     4.0        57309\n2        1  Toy Story (1995)       4     3.0        57309\n3        1  Toy Story (1995)       5     4.0        57309\n4        1  Toy Story (1995)       8     4.0        57309",
            "text/html": "<div>\n<style scoped>\n    .dataframe tbody tr th:only-of-type {\n        vertical-align: middle;\n    }\n\n    .dataframe tbody tr th {\n        vertical-align: top;\n    }\n\n    .dataframe thead th {\n        text-align: right;\n    }\n</style>\n<table border=\"1\" class=\"dataframe\">\n  <thead>\n    <tr style=\"text-align: right;\">\n      <th></th>\n      <th>movieId</th>\n      <th>title</th>\n      <th>userId</th>\n      <th>rating</th>\n      <th>ratingcount</th>\n    </tr>\n  </thead>\n  <tbody>\n    <tr>\n      <th>0</th>\n      <td>1</td>\n      <td>Toy Story (1995)</td>\n      <td>2</td>\n      <td>3.5</td>\n      <td>57309</td>\n    </tr>\n    <tr>\n      <th>1</th>\n      <td>1</td>\n      <td>Toy Story (1995)</td>\n      <td>3</td>\n      <td>4.0</td>\n      <td>57309</td>\n    </tr>\n    <tr>\n      <th>2</th>\n      <td>1</td>\n      <td>Toy Story (1995)</td>\n      <td>4</td>\n      <td>3.0</td>\n      <td>57309</td>\n    </tr>\n    <tr>\n      <th>3</th>\n      <td>1</td>\n      <td>Toy Story (1995)</td>\n      <td>5</td>\n      <td>4.0</td>\n      <td>57309</td>\n    </tr>\n    <tr>\n      <th>4</th>\n      <td>1</td>\n      <td>Toy Story (1995)</td>\n      <td>8</td>\n      <td>4.0</td>\n      <td>57309</td>\n    </tr>\n  </tbody>\n</table>\n</div>"
          },
          "metadata": {}
        }
      ]
    },
    {
      "cell_type": "code",
      "source": [
        "print(f'10% of count= {df3.ratingcount.quantile(.1)}')\n",
        "print(f'25% of count= {df3.ratingcount.quantile(.25)}')\n",
        "print(f'50% of count= {df3.ratingcount.quantile(.5)}')\n",
        "print(f'75% of count= {df3.ratingcount.quantile(.75)}')\n",
        "print(f'85% of count= {df3.ratingcount.quantile(.85)}')\n",
        "print(f'100% of count= {df3.ratingcount.quantile(1)}')"
      ],
      "metadata": {
        "execution": {
          "iopub.status.busy": "2024-07-31T16:30:20.69606Z",
          "iopub.execute_input": "2024-07-31T16:30:20.696521Z",
          "iopub.status.idle": "2024-07-31T16:30:21.857746Z",
          "shell.execute_reply.started": "2024-07-31T16:30:20.696481Z",
          "shell.execute_reply": "2024-07-31T16:30:21.856722Z"
        },
        "trusted": true,
        "id": "kEdIpgodoW68",
        "outputId": "945c920a-cee7-413b-d045-ea3b29e8a06c"
      },
      "execution_count": null,
      "outputs": [
        {
          "name": "stdout",
          "text": "10% of count= 825.0\n25% of count= 2986.0\n50% of count= 9152.0\n75% of count= 20757.0\n85% of count= 30910.0\n100% of count= 81491.0\n",
          "output_type": "stream"
        }
      ]
    },
    {
      "cell_type": "code",
      "source": [
        "df4=df3[df3.ratingcount>=10000]\n",
        "df4.shape"
      ],
      "metadata": {
        "execution": {
          "iopub.status.busy": "2024-07-31T16:30:21.858993Z",
          "iopub.execute_input": "2024-07-31T16:30:21.859303Z",
          "iopub.status.idle": "2024-07-31T16:30:22.477888Z",
          "shell.execute_reply.started": "2024-07-31T16:30:21.859276Z",
          "shell.execute_reply": "2024-07-31T16:30:22.476799Z"
        },
        "trusted": true,
        "id": "nomjkYFCoW68",
        "outputId": "fe38dc09-03aa-4e1e-853e-eb185693ab7a"
      },
      "execution_count": null,
      "outputs": [
        {
          "execution_count": 15,
          "output_type": "execute_result",
          "data": {
            "text/plain": "(11878413, 5)"
          },
          "metadata": {}
        }
      ]
    },
    {
      "cell_type": "code",
      "source": [
        "movie_rating_pivote=df4.pivot_table(index='title',columns='userId', values='rating').fillna(0)\n",
        "movie_rating_pivote.head()"
      ],
      "metadata": {
        "execution": {
          "iopub.status.busy": "2024-07-31T16:30:22.481805Z",
          "iopub.execute_input": "2024-07-31T16:30:22.482222Z"
        },
        "trusted": true,
        "id": "-0_Mh4g1oW68"
      },
      "execution_count": null,
      "outputs": []
    },
    {
      "cell_type": "code",
      "source": [
        "from scipy.sparse import csr_matrix\n",
        "from sklearn.neighbors import NearestNeighbors\n",
        "\n",
        "movie_rating_df=csr_matrix(movie_rating_pivote.values)\n",
        "\n",
        "model_knn=NearestNeighbors(metric='cosine', algorithm='brute',n_neighbors=11)\n",
        "model_knn.fit(movie_rating_df)"
      ],
      "metadata": {
        "trusted": true,
        "id": "w9vo1v8woW68"
      },
      "execution_count": null,
      "outputs": []
    },
    {
      "cell_type": "code",
      "source": [
        "movie_rating_df.shape"
      ],
      "metadata": {
        "trusted": true,
        "id": "OujjyG_4oW68"
      },
      "execution_count": null,
      "outputs": []
    },
    {
      "cell_type": "code",
      "source": [
        "distance,indices=model_knn.kneighbors(movie_rating_pivote.iloc[np.random.choice(movie_rating_df.shape[0]),:].values.reshape(1,-1),n_neighbors=11)\n",
        "\n",
        "for i in range(0, len(distance.flatten())):\n",
        "    if i == 0:\n",
        "        print(f'Recommendation for a movie: {movie_rating_pivote.index[indices.flatten()[i]]}')\n",
        "    else:\n",
        "        print(f'{i}: {movie_rating_pivote.index[indices.flatten()[i]]} with a distance {distance.flatten()[i]}')"
      ],
      "metadata": {
        "trusted": true,
        "id": "ok69Jo6MoW68"
      },
      "execution_count": null,
      "outputs": []
    }
  ]
}